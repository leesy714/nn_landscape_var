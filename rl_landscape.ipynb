{
 "cells": [
  {
   "cell_type": "code",
   "execution_count": null,
   "metadata": {},
   "outputs": [],
   "source": [
    "from matplotlib import pyplot as plt\n",
    "import matplotlib.colors as colors\n",
    "%matplotlib inline\n",
    "\n",
    "import torch\n",
    "from dqn_arch.model import *\n",
    "import torchvision\n",
    "from torchvision import datasets, transforms\n",
    "import numpy as np\n",
    "import torch.nn as nn\n",
    "\n",
    "from itertools import product\n",
    "\n",
    "device = 'cpu'"
   ]
  },
  {
   "cell_type": "code",
   "execution_count": null,
   "metadata": {},
   "outputs": [],
   "source": [
    "from rl.evaluate import evaluate_net\n",
    "from rl.model import Policy\n",
    "from rl.envs import make_vec_envs\n",
    "\n",
    "env = make_vec_envs('BeamRiderNoFrameskip-v4', 1001, 1,\n",
    "\n",
    "                    None, None, False, 'cpu', False )\n",
    "\n",
    "state_dict, ob_rms = torch.load('./BeamRiderNoFrameskip-v4.pt')\n",
    "\n",
    "actor_critic = Policy(env.observation_space.shape, env.action_space, base_kwargs={'recurrent':False})\n",
    "\n",
    "actor_critic.load_state_dict(state_dict)"
   ]
  },
  {
   "cell_type": "code",
   "execution_count": null,
   "metadata": {},
   "outputs": [],
   "source": [
    "zero_vector = np.zeros(actor_critic.get_weight_vector().shape)\n",
    "seed=8\n",
    "np.random.seed(seed+1000)\n",
    "b1 = np.random.normal(loc = zero_vector, scale=1)\n",
    "b1 = b1/np.linalg.norm(b1)\n",
    "\n",
    "while True:\n",
    "    b2 = np.random.normal(loc = zero_vector, scale=1)\n",
    "    b2 = b2/np.linalg.norm(b2)    \n",
    "    if abs(np.dot(b1,b2)) < 1e-5:\n",
    "        break\n",
    "\n",
    "\n",
    "b1, b2 = actor_critic.filterwisely_normalize(b1), actor_critic.filterwisely_normalize(b2)\n",
    "b1.shape\n",
    "\n",
    "r=1.0\n",
    "scale=11\n",
    "gx = np.linspace(-r, r, scale)\n",
    "gy = np.linspace(-r, r,scale)\n",
    "nx,ny = len(gx), len(gy)\n",
    "loss_map = np.zeros((nx,ny))\n",
    "std_map = np.zeros((nx,ny))\n",
    "\n",
    "\n",
    "tnet = Policy(env.observation_space.shape, env.action_space, base_kwargs={'recurrent':False})\n",
    "tnet.load_state_dict(actor_critic.state_dict())\n",
    "origin = tnet.get_weight_vector()    \n",
    "\n",
    "rep = 5\n",
    "for i,j in product(range(nx), range(ny)):\n",
    "    v = origin + b1 * gx[i] + b2 * gy[j]\n",
    "    tnet.set_weight_vector(v,device)\n",
    "    loss = []\n",
    "    for rr in range(rep):\n",
    "        loss.append(evaluate_net(tnet,env))\n",
    "    loss_map[i,j] = np.mean(loss)\n",
    "    std_map[i,j] = np.std(loss)\n",
    "    print(i,j, loss_map[i,j])"
   ]
  },
  {
   "cell_type": "code",
   "execution_count": null,
   "metadata": {},
   "outputs": [],
   "source": [
    "X,Y = np.meshgrid(gx,gy)\n",
    "plt.figure()\n",
    "cs = plt.contour(X,Y, loss_map)\n",
    "plt.clabel(cs, inline=1, fontsize=10)\n",
    "plt.figure()\n",
    "plt.contour(X,Y, std_map)"
   ]
  },
  {
   "cell_type": "code",
   "execution_count": null,
   "metadata": {},
   "outputs": [],
   "source": [
    "n_train = 25\n",
    "GP_X= (np.random.random(size=(n_train,2)) -0.5)*0.2\n",
    "GP_Y=[]\n",
    "\n",
    "for i, (x1,y1) in enumerate(GP_X):\n",
    "    vec = origin + b1 * x1 + b2 * y1\n",
    "    tnet.set_weight_vector(vec, device)\n",
    "    loss = evaluate_net(tnet, env)\n",
    "    GP_Y.append(loss)\n",
    "    print(i, x1, y1, loss)\n",
    "print()"
   ]
  },
  {
   "cell_type": "code",
   "execution_count": null,
   "metadata": {},
   "outputs": [],
   "source": [
    "X,Y = np.meshgrid(gx,gy)\n",
    "#print(X)\n",
    "#print(Y)\n",
    "    \n",
    "fig, axes = plt.subplots(1,2, figsize=(15,10))\n",
    "    \n",
    "\n",
    "cs = axes[0].contour(X,Y,loss_map)\n",
    "plt.clabel(cs, inline=1, fontsize=10)\n",
    "axes[0].set_title('Loss')\n",
    "cs = axes[1].contour(X,Y,std_map )\n",
    "plt.clabel(cs, inline=1, fontsize=10)\n",
    "axes[1].set_title('Std')\n",
    "fig.suptitle('beamrider')\n"
   ]
  },
  {
   "cell_type": "code",
   "execution_count": null,
   "metadata": {},
   "outputs": [],
   "source": [
    "from sklearn.gaussian_process import GaussianProcessRegressor\n",
    "from sklearn.gaussian_process.kernels import DotProduct, RBF, WhiteKernel, ConstantKernel, ExpSineSquared ,Matern"
   ]
  },
  {
   "cell_type": "code",
   "execution_count": null,
   "metadata": {},
   "outputs": [],
   "source": [
    "len(GP_X)"
   ]
  },
  {
   "cell_type": "code",
   "execution_count": null,
   "metadata": {},
   "outputs": [],
   "source": [
    "kernel = RBF(1e-5) \n",
    "gp = GaussianProcessRegressor(kernel=kernel, n_restarts_optimizer=9)\n",
    "\n",
    "gp.fit(GP_X, GP_Y)"
   ]
  },
  {
   "cell_type": "code",
   "execution_count": null,
   "metadata": {},
   "outputs": [],
   "source": [
    "gp.log_marginal_likelihood()"
   ]
  },
  {
   "cell_type": "code",
   "execution_count": null,
   "metadata": {},
   "outputs": [],
   "source": [
    "test_X"
   ]
  },
  {
   "cell_type": "code",
   "execution_count": null,
   "metadata": {},
   "outputs": [],
   "source": [
    "test_X = np.vstack((X.flatten(), Y.flatten())).T\n",
    "test_X.shape"
   ]
  },
  {
   "cell_type": "code",
   "execution_count": null,
   "metadata": {},
   "outputs": [],
   "source": [
    "y_mean, y_cov = gp.predict(test_X, return_cov=True)\n",
    "\n",
    "posterior_nums = 3\n",
    "\n"
   ]
  },
  {
   "cell_type": "code",
   "execution_count": null,
   "metadata": {},
   "outputs": [],
   "source": [
    "loss_map"
   ]
  },
  {
   "cell_type": "code",
   "execution_count": null,
   "metadata": {},
   "outputs": [],
   "source": [
    "y_mean.reshape(-1,scale)"
   ]
  },
  {
   "cell_type": "code",
   "execution_count": null,
   "metadata": {},
   "outputs": [],
   "source": [
    "fig, axs = plt.subplots(2,figsize=(10,20))\n",
    "ax = axs[0]\n",
    "cs = ax.contour(X, Y, loss_map)\n",
    "plt.clabel(cs, inline=1, fontsize=10)\n",
    "ax = axs[1]\n",
    "cs = ax.contour(X, Y, y_mean.reshape(-1,scale))\n",
    "plt.clabel(cs, inline=1, fontsize=10)\n",
    "\n",
    "\n",
    "plt.tight_layout()\n",
    "plt.show()"
   ]
  },
  {
   "cell_type": "code",
   "execution_count": null,
   "metadata": {},
   "outputs": [],
   "source": []
  },
  {
   "cell_type": "code",
   "execution_count": null,
   "metadata": {},
   "outputs": [],
   "source": []
  },
  {
   "cell_type": "code",
   "execution_count": null,
   "metadata": {},
   "outputs": [],
   "source": []
  }
 ],
 "metadata": {
  "kernelspec": {
   "display_name": "Python 3",
   "language": "python",
   "name": "python3"
  },
  "language_info": {
   "codemirror_mode": {
    "name": "ipython",
    "version": 3
   },
   "file_extension": ".py",
   "mimetype": "text/x-python",
   "name": "python",
   "nbconvert_exporter": "python",
   "pygments_lexer": "ipython3",
   "version": "3.6.5"
  }
 },
 "nbformat": 4,
 "nbformat_minor": 2
}
