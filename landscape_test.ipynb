{
 "cells": [
  {
   "cell_type": "code",
   "execution_count": 1,
   "metadata": {},
   "outputs": [],
   "source": [
    "from matplotlib import pyplot as plt\n",
    "import matplotlib.colors as colors\n",
    "%matplotlib inline\n",
    "\n",
    "import torch\n",
    "from dqn_arch.model import *\n",
    "import torchvision\n",
    "from torchvision import datasets, transforms\n",
    "import numpy as np\n",
    "import torch.nn as nn\n",
    "import copy\n",
    "from itertools import product\n",
    "\n",
    "device = 'cuda'"
   ]
  },
  {
   "cell_type": "markdown",
   "metadata": {},
   "source": [
    "# CIFAR10"
   ]
  },
  {
   "cell_type": "code",
   "execution_count": 7,
   "metadata": {},
   "outputs": [
    {
     "name": "stdout",
     "output_type": "stream",
     "text": [
      "Files already downloaded and verified\n",
      "Files already downloaded and verified\n"
     ]
    }
   ],
   "source": [
    "transform_train = transforms.Compose([\n",
    "    transforms.RandomCrop(32, padding=4),\n",
    "    transforms.RandomHorizontalFlip(),\n",
    "    transforms.ToTensor(),\n",
    "    transforms.Normalize((0.4914, 0.4822, 0.4465), (0.2023, 0.1994, 0.2010)),\n",
    "])\n",
    "\n",
    "randomed_transform_train = transforms.Compose([\n",
    "    transforms.ToTensor(),\n",
    "    transforms.Normalize((0.4914, 0.4822, 0.4465), (0.2023, 0.1994, 0.2010)),\n",
    "])\n",
    "\n",
    "transform_test = transforms.Compose([\n",
    "    transforms.ToTensor(),\n",
    "    transforms.Normalize((0.4914, 0.4822, 0.4465), (0.2023, 0.1994, 0.2010)),\n",
    "])\n",
    "\n",
    "trainset = torchvision.datasets.CIFAR10(root='~/data/cifar10', train=True, download=True, transform=transform_train)\n",
    "trainloader = torch.utils.data.DataLoader(trainset, batch_size=100, shuffle=True, num_workers=2)\n",
    "\n",
    "\n",
    "testset = torchvision.datasets.CIFAR10(root='~/data/cifar10', train=True, download=True, transform=transform_test)\n",
    "testloader = torch.utils.data.DataLoader(testset, batch_size=1000, shuffle=False, num_workers=2)\n"
   ]
  },
  {
   "cell_type": "code",
   "execution_count": 6,
   "metadata": {},
   "outputs": [],
   "source": [
    "testloader = torch.utils.data.DataLoader(\n",
    "    torchvision.datasets.MNIST('/home/leesy714/data/mnist/', train=True, download=True,\n",
    "                    transform=transforms.Compose([\n",
    "                        transforms.ToTensor(),\n",
    "                        transforms.Normalize((0.1307,), (0.3081,))\n",
    "                    ])),batch_size=4096, shuffle=True)\n",
    "trainloader = torch.utils.data.DataLoader(\n",
    "    torchvision.datasets.MNIST('/home/leesy714/data/mnist/', train=True, download=True,\n",
    "                    transform=transforms.Compose([\n",
    "                        transforms.ToTensor(),\n",
    "                        transforms.Normalize((0.1307,), (0.3081,))\n",
    "                    ])),batch_size=128, shuffle=True)"
   ]
  },
  {
   "cell_type": "code",
   "execution_count": 8,
   "metadata": {},
   "outputs": [],
   "source": [
    "def test(net, loader):\n",
    "    net.eval()\n",
    "    correct = 0\n",
    "    total =  0\n",
    "    test_loss = []\n",
    "    with torch.no_grad():\n",
    "        for batch_idx, (inputs, targets) in enumerate(loader):\n",
    "            inputs, targets = inputs.to(device), targets.to(device)\n",
    "            outputs = net(inputs)\n",
    "            loss = loss_function(outputs,targets)\n",
    "            test_loss.append(loss.item())\n",
    "            _, predicted = outputs.max(1)\n",
    "            total += targets.size(0)\n",
    "            correct += predicted.eq(targets).sum().item()\n",
    "            \n",
    "            \n",
    "    acc = 100.*correct/total\n",
    "    test_loss_mean = np.mean(test_loss)\n",
    "    test_loss_std = np.std(test_loss)\n",
    "    return test_loss_mean, test_loss_std, acc"
   ]
  },
  {
   "cell_type": "code",
   "execution_count": 9,
   "metadata": {},
   "outputs": [],
   "source": [
    "loss_function = nn.CrossEntropyLoss()"
   ]
  },
  {
   "cell_type": "code",
   "execution_count": 10,
   "metadata": {},
   "outputs": [],
   "source": [
    "def eval_plot_2d_landscape(net, nettype, loader, basis, r=1.0, scale=11,title='Title'):\n",
    "    b1,b2 = basis\n",
    "    x = np.linspace(-r, r, scale)\n",
    "    y = np.linspace(-r, r,scale)\n",
    "    nx,ny = len(x), len(y)\n",
    "    loss_map = np.zeros((nx,ny))\n",
    "    acc_map = np.zeros((nx,ny))\n",
    "    std_map = np.zeros((nx,ny))\n",
    "\n",
    "    tnet = nettype\n",
    "    tnet.load_state_dict(net.state_dict())\n",
    "    origin = tnet.get_weight_vector()    \n",
    "\n",
    "    for i,j in product(range(nx),range(ny)):\n",
    "        vec = origin + b1 * x[i] + b2 * y[j]\n",
    "        tnet.set_weight_vector(vec)\n",
    "        loss, std, acc = test(tnet, loader)\n",
    "        loss_map[i, j] = loss\n",
    "        acc_map[i, j] = acc\n",
    "        std_map[i, j] = std\n",
    "        print('\\r',i, j, x[i], y[j], acc, loss,end='')\n",
    "    print()\n",
    "    X,Y = np.meshgrid(x,y)\n",
    "\n",
    "    \n",
    "    fig, axes = plt.subplots(1,2, figsize=(15,10))\n",
    "\n",
    "    cs = axes[0].contour(X,Y,loss_map, levels=np.logspace(np.log(loss_map.min()), np.log(loss_map.max()),15,base=np.e))\n",
    "    plt.clabel(cs, inline=1, fontsize=10)\n",
    "    axes[0].set_title('Loss')\n",
    "    cs = axes[1].contour(X,Y,std_map, levels=np.logspace(np.log(std_map.min()), np.log(std_map.max()),15,base=np.e))\n",
    "    plt.clabel(cs, inline=1, fontsize=10)\n",
    "    axes[1].set_title('Std')\n",
    "    fig.suptitle(title)\n",
    "\n",
    "    return loss_map, acc_map, std_map"
   ]
  },
  {
   "cell_type": "code",
   "execution_count": 11,
   "metadata": {},
   "outputs": [
    {
     "data": {
      "text/plain": [
       "Model(\n",
       "  (conv1): Conv2d(3, 32, kernel_size=(3, 3), stride=(2, 2), bias=False)\n",
       "  (conv2): Conv2d(32, 64, kernel_size=(3, 3), stride=(2, 2), bias=False)\n",
       "  (conv3): Conv2d(64, 64, kernel_size=(3, 3), stride=(1, 1), bias=False)\n",
       "  (dense): Linear(in_features=1600, out_features=512, bias=False)\n",
       "  (out): Linear(in_features=512, out_features=10, bias=True)\n",
       ")"
      ]
     },
     "execution_count": 11,
     "metadata": {},
     "output_type": "execute_result"
    }
   ],
   "source": [
    "net = Model(in_size=(3,32,32))\n",
    "#net = Model(in_size=(1,28,28))\n",
    "#checkpoint = torch.load('./dqn_arch/checkpoint/data_MNIST_optim_sgd_lr_0.01_wd_0.0005_batch-size_128_seed_2018/best.t7')\n",
    "checkpoint = torch.load('./dqn_arch/checkpoint/data_CIFAR10_optim_sgd_lr_0.01_wd_0.0005_batch-size_128_seed_2018/best.t7')\n",
    "net.load_state_dict(checkpoint['net'])    \n",
    "net.to(device)"
   ]
  },
  {
   "cell_type": "code",
   "execution_count": 12,
   "metadata": {},
   "outputs": [
    {
     "data": {
      "text/plain": [
       "Model(\n",
       "  (conv1): Conv2d(3, 32, kernel_size=(3, 3), stride=(2, 2), bias=False)\n",
       "  (conv2): Conv2d(32, 64, kernel_size=(3, 3), stride=(2, 2), bias=False)\n",
       "  (conv3): Conv2d(64, 64, kernel_size=(3, 3), stride=(1, 1), bias=False)\n",
       "  (dense): Linear(in_features=1600, out_features=512, bias=False)\n",
       "  (out): Linear(in_features=512, out_features=10, bias=True)\n",
       ")"
      ]
     },
     "execution_count": 12,
     "metadata": {},
     "output_type": "execute_result"
    }
   ],
   "source": [
    "#net = Model(in_size=(3,32,32))\n",
    "init_net = Model(in_size=(3,32,32))\n",
    "\n",
    "init_net.to(device)"
   ]
  },
  {
   "cell_type": "code",
   "execution_count": 13,
   "metadata": {},
   "outputs": [
    {
     "data": {
      "text/plain": [
       "(880490,)"
      ]
     },
     "execution_count": 13,
     "metadata": {},
     "output_type": "execute_result"
    }
   ],
   "source": [
    "zero_vector = np.zeros(net.get_weight_vector().shape)\n",
    "zero_vector.shape\n"
   ]
  },
  {
   "cell_type": "code",
   "execution_count": 14,
   "metadata": {},
   "outputs": [
    {
     "name": "stdout",
     "output_type": "stream",
     "text": [
      "Train loss mean: 2.303066 std: 0.003631 acc:9.98\n",
      "Test loss mean: 2.303061 std: 0.000993 acc:10.14\n"
     ]
    }
   ],
   "source": [
    "print('Train loss mean: {:.6f} std: {:.6f} acc:{:.2f}'.format(*test(init_net, trainloader)))\n",
    "#print('Fixed Train loss mean: {:.6f} std: {:.6f} acc:{:.2f}'.format(*test(net, fixed_trainloader)))\n",
    "print('Test loss mean: {:.6f} std: {:.6f} acc:{:.2f}'.format(*test(init_net, testloader)))"
   ]
  },
  {
   "cell_type": "code",
   "execution_count": 15,
   "metadata": {},
   "outputs": [
    {
     "name": "stdout",
     "output_type": "stream",
     "text": [
      "Train loss mean: 0.375391 std: 0.078059 acc:87.00\n",
      "Test loss mean: 0.293495 std: 0.016658 acc:90.32\n"
     ]
    }
   ],
   "source": [
    "print('Train loss mean: {:.6f} std: {:.6f} acc:{:.2f}'.format(*test(net, trainloader)))\n",
    "#print('Fixed Train loss mean: {:.6f} std: {:.6f} acc:{:.2f}'.format(*test(net, fixed_trainloader)))\n",
    "print('Test loss mean: {:.6f} std: {:.6f} acc:{:.2f}'.format(*test(net, testloader)))"
   ]
  },
  {
   "cell_type": "code",
   "execution_count": 16,
   "metadata": {},
   "outputs": [
    {
     "name": "stdout",
     "output_type": "stream",
     "text": [
      "28.324614\n",
      "20.024901370377798 20.032206688347795\n"
     ]
    }
   ],
   "source": [
    "bb = net.get_weight_vector()- init_net.get_weight_vector()\n",
    "while True:\n",
    "    r = np.random.normal(loc = zero_vector, scale=1)\n",
    "    r = r / np.linalg.norm(r)\n",
    "    if np.dot(bb,r) <=1e-100000000:\n",
    "        break\n",
    "r=r*np.linalg.norm(bb)/2\n",
    "b1 = bb / 2 + r\n",
    "print(np.linalg.norm(bb))\n",
    "b2 = bb-b1\n",
    "\n",
    "\n",
    "#print(init_net.get_weight_vector())\n",
    "\n",
    "tnet = copy.deepcopy(net)\n",
    "tnet.set_weight_vector(net.get_weight_vector())\n",
    "origin = tnet.get_weight_vector()   \n",
    "#print(origin+b1+b2)\n",
    "b1_norm, b2_norm = np.linalg.norm(b1), np.linalg.norm(b2)\n",
    "print(b1_norm, b2_norm)\n",
    "b1=b1/b1_norm \n",
    "b2 =b2/b2_norm"
   ]
  },
  {
   "cell_type": "code",
   "execution_count": null,
   "metadata": {},
   "outputs": [
    {
     "name": "stdout",
     "output_type": "stream",
     "text": [
      "2 1    -5.01 -7.51    10.34  2.411496"
     ]
    }
   ],
   "source": [
    "rx = b1_norm\n",
    "ry = b2_norm\n",
    "scale=21\n",
    "x = np.linspace(-rx * 0.5, rx*2, scale)\n",
    "y = np.linspace(-ry * 0.5, ry*2, scale)\n",
    "\n",
    "nx,ny = len(x), len(y)\n",
    "loss_map = np.zeros((nx,ny))\n",
    "acc_map = np.zeros((nx,ny))\n",
    "\n",
    "tnet = copy.deepcopy(net)\n",
    "#tnet.set_weight_vector(net.get_weight_vector())\n",
    "origin = init_net.get_weight_vector()\n",
    "\n",
    "for i,j in product(range(nx),range(ny)):\n",
    "    vec = origin + b1 * x[i] + b2 * y[j]\n",
    "    tnet.set_weight_vector(vec)\n",
    "    loss, std, acc = test(tnet, testloader)\n",
    "    loss_map[i, j] = loss\n",
    "    acc_map[i, j] = acc\n",
    "    print('\\r{} {}    {:.2f} {:.2f}    {:.2f}  {:.4f}'.format(i, j, x[i], y[j], acc, loss),end='')\n",
    "print()\n",
    "X,Y = np.meshgrid(x,y)\n",
    "\n",
    "    \n",
    "plt.figure(figsize=(10,10))\n",
    "cs = plt.contour(X,Y,loss_map, levels=np.logspace(np.log(loss_map.min()), np.log(loss_map.max()),20,base=np.e))\n",
    "plt.clabel(cs, inline=1, fontsize=10)\n",
    "\n"
   ]
  },
  {
   "cell_type": "code",
   "execution_count": null,
   "metadata": {},
   "outputs": [],
   "source": [
    "def projection(v, b1,b2):\n",
    "    p1 = np.dot(v-origin,b1)\n",
    "    p2 = np.dot(v-origin,b2)\n",
    "    return p1,p2"
   ]
  },
  {
   "cell_type": "code",
   "execution_count": null,
   "metadata": {},
   "outputs": [],
   "source": [
    "b2_norm\n",
    "b2_norm"
   ]
  },
  {
   "cell_type": "code",
   "execution_count": null,
   "metadata": {},
   "outputs": [],
   "source": [
    "many_init=[]\n",
    "for k in range(1000):\n",
    "    tnet = Model((3,32,32))\n",
    "    x,y = projection(tnet.get_weight_vector(),b1,b2)\n",
    "    many_init.append([x,y])\n",
    "many_init = np.array(many_init).transpose()"
   ]
  },
  {
   "cell_type": "code",
   "execution_count": null,
   "metadata": {},
   "outputs": [],
   "source": [
    "many_init.shape"
   ]
  },
  {
   "cell_type": "code",
   "execution_count": null,
   "metadata": {},
   "outputs": [],
   "source": []
  },
  {
   "cell_type": "code",
   "execution_count": null,
   "metadata": {},
   "outputs": [],
   "source": [
    "plt.figure(figsize=(10,10))\n",
    "levels = np.concatenate((np.linspace(0.4,1.6,7),np.logspace(np.log(1.8), np.log(10),5, base=np.e)))\n",
    "levels = np.logspace(np.log2(0.25), np.log2(8), 13, base=2)\n",
    "#levels = np.linspace(0.2,8.0,40)\n",
    "\n",
    "cs = plt.contour(X,Y,loss_map, levels=levels,cmap='plasma')\n",
    "plt.clabel(cs, inline=1, fontsize=10)\n",
    "plt.plot(many_init[0], many_init[1],'co',markersize=5, alpha=0.5)\n",
    "plt.plot(b1_norm, b2_norm,'ro',markersize=5, alpha=0.5)"
   ]
  },
  {
   "cell_type": "code",
   "execution_count": null,
   "metadata": {},
   "outputs": [],
   "source": [
    "import pickle\n",
    "pickle"
   ]
  },
  {
   "cell_type": "code",
   "execution_count": null,
   "metadata": {},
   "outputs": [],
   "source": [
    "dist_from_init=np.linalg.norm(net.get_weight_vector() - init_net.get_weight_vector())\n",
    "dist_from_init"
   ]
  },
  {
   "cell_type": "code",
   "execution_count": null,
   "metadata": {},
   "outputs": [],
   "source": [
    "def plot_2d_landscape(loss_map, std_map,r=1.0, title='Title',):\n",
    "    scale = loss_map.shape[0]\n",
    "    x = np.linspace(-r, r, scale)\n",
    "    y = np.linspace(-r, r,scale)\n",
    "    X,Y = np.meshgrid(x,y)\n",
    "\n",
    "    \n",
    "    fig, axes = plt.subplots(1,2, figsize=(15,10))\n",
    "    \n",
    "\n",
    "    cs = axes[0].contour(X,Y,loss_map, levels=np.logspace(np.log(loss_map.min()), np.log(loss_map.max()),15,base=np.e))\n",
    "    plt.clabel(cs, inline=1, fontsize=10)\n",
    "    axes[0].set_title('Loss')\n",
    "    cs = axes[1].contour(X,Y,std_map, levels=np.logspace(np.log(std_map.min()), np.log(std_map.max()),15,base=np.e))\n",
    "    plt.clabel(cs, inline=1, fontsize=10)\n",
    "    axes[1].set_title('Std')\n",
    "    fig.suptitle(title)\n"
   ]
  },
  {
   "cell_type": "code",
   "execution_count": null,
   "metadata": {},
   "outputs": [],
   "source": [
    " mnist_sgd_1_11 = eval_plot_2d_landscape(net, Model(in_size=(1,28,28)), trainloader, (b1,b2), r=dist_from_init, scale=11, title='Title')"
   ]
  },
  {
   "cell_type": "code",
   "execution_count": null,
   "metadata": {},
   "outputs": [],
   "source": [
    "cifar10_sgd_1_101 = eval_plot_2d_landscape(net, Model(in_size=(3,32,32)), fixed_trainloader, (b1,b2), r=dist_from_origin, scale=11, title='Title')"
   ]
  },
  {
   "cell_type": "code",
   "execution_count": null,
   "metadata": {},
   "outputs": [],
   "source": [
    "import pickle\n",
    "pickle.dump((cifar10_sgd_1_11,cifar10_sgd_1_101),open('cifar10_11_51','wb'))"
   ]
  }
 ],
 "metadata": {
  "kernelspec": {
   "display_name": "Python 3",
   "language": "python",
   "name": "python3"
  },
  "language_info": {
   "codemirror_mode": {
    "name": "ipython",
    "version": 3
   },
   "file_extension": ".py",
   "mimetype": "text/x-python",
   "name": "python",
   "nbconvert_exporter": "python",
   "pygments_lexer": "ipython3",
   "version": "3.6.5"
  }
 },
 "nbformat": 4,
 "nbformat_minor": 2
}
