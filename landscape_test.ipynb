{
 "cells": [
  {
   "cell_type": "code",
   "execution_count": 1,
   "metadata": {},
   "outputs": [],
   "source": [
    "from matplotlib import pyplot as plt\n",
    "import matplotlib.colors as colors\n",
    "%matplotlib inline\n",
    "\n",
    "import torch\n",
    "from dqn_arch.model import *\n",
    "import torchvision\n",
    "from torchvision import datasets, transforms\n",
    "import numpy as np\n",
    "import torch.nn as nn\n",
    "\n",
    "from itertools import product\n",
    "\n",
    "device = 'cuda'"
   ]
  },
  {
   "cell_type": "markdown",
   "metadata": {},
   "source": [
    "# CIFAR10"
   ]
  },
  {
   "cell_type": "code",
   "execution_count": null,
   "metadata": {},
   "outputs": [],
   "source": [
    "fixed_transform_train = transforms.Compose([\n",
    "    transforms.ToTensor(),\n",
    "    transforms.Normalize((0.4914, 0.4822, 0.4465), (0.2023, 0.1994, 0.2010)),\n",
    "])\n",
    "\n",
    "transform_train = transforms.Compose([\n",
    "    transforms.RandomCrop(32, padding=4),\n",
    "    transforms.RandomHorizontalFlip(),\n",
    "    transforms.ToTensor(),\n",
    "    transforms.Normalize((0.4914, 0.4822, 0.4465), (0.2023, 0.1994, 0.2010)),\n",
    "])\n",
    "\n",
    "randomed_transform_train = transforms.Compose([\n",
    "    transforms.ToTensor(),\n",
    "    transforms.Normalize((0.4914, 0.4822, 0.4465), (0.2023, 0.1994, 0.2010)),\n",
    "])\n",
    "\n",
    "transform_test = transforms.Compose([\n",
    "    transforms.ToTensor(),\n",
    "    transforms.Normalize((0.4914, 0.4822, 0.4465), (0.2023, 0.1994, 0.2010)),\n",
    "])\n",
    "\n",
    "fixed_trainset = torchvision.datasets.CIFAR10(root='~/data/cifar10', train=True, download=True, transform=fixed_transform_train)\n",
    "fixed_trainloader = torch.utils.data.DataLoader(fixed_trainset, batch_size=100, shuffle=False, num_workers=2)\n",
    "\n",
    "trainset = torchvision.datasets.CIFAR10(root='~/data/cifar10', train=True, download=True, transform=transform_train)\n",
    "trainloader = torch.utils.data.DataLoader(trainset, batch_size=100, shuffle=True, num_workers=2)\n",
    "\n",
    "\n",
    "testset = torchvision.datasets.CIFAR10(root='~/data/cifar10', train=False, download=True, transform=transform_test)\n",
    "testloader = torch.utils.data.DataLoader(testset, batch_size=1000, shuffle=False, num_workers=2)\n"
   ]
  },
  {
   "cell_type": "code",
   "execution_count": null,
   "metadata": {},
   "outputs": [],
   "source": [
    "def test(net, loader):\n",
    "    net.eval()\n",
    "    correct = 0\n",
    "    total =  0\n",
    "    test_loss = []\n",
    "    with torch.no_grad():\n",
    "        for batch_idx, (inputs, targets) in enumerate(loader):\n",
    "            inputs, targets = inputs.to(device), targets.to(device)\n",
    "            outputs = net(inputs)\n",
    "            loss = loss_function(outputs,targets)\n",
    "            test_loss.append(loss.item())\n",
    "            _, predicted = outputs.max(1)\n",
    "            total += targets.size(0)\n",
    "            correct += predicted.eq(targets).sum().item()\n",
    "            \n",
    "            \n",
    "    acc = 100.*correct/total\n",
    "    test_loss_mean = np.mean(test_loss)\n",
    "    test_loss_std = np.std(test_loss)\n",
    "    return test_loss_mean, test_loss_std, acc"
   ]
  },
  {
   "cell_type": "code",
   "execution_count": null,
   "metadata": {},
   "outputs": [],
   "source": [
    "loss_function = nn.CrossEntropyLoss()"
   ]
  },
  {
   "cell_type": "code",
   "execution_count": null,
   "metadata": {},
   "outputs": [],
   "source": [
    "def eval_plot_2d_landscape(net, nettype, loader, basis, r=1.0, scale=11,title='Title'):\n",
    "    b1,b2 = basis\n",
    "    x = np.linspace(-r, r, scale)\n",
    "    y = np.linspace(-r, r,scale)\n",
    "    nx,ny = len(x), len(y)\n",
    "    loss_map = np.zeros((nx,ny))\n",
    "    acc_map = np.zeros((nx,ny))\n",
    "    std_map = np.zeros((nx,ny))\n",
    "\n",
    "    tnet = nettype\n",
    "    tnet.load_state_dict(net.state_dict())\n",
    "    origin = tnet.get_weight_vector()    \n",
    "\n",
    "    for i,j in product(range(nx),range(ny)):\n",
    "        vec = origin + b1 * x[i] + b2 * y[j]\n",
    "        tnet.set_weight_vector(vec)\n",
    "        loss, std, acc = test(tnet, loader)\n",
    "        loss_map[i, j] = loss\n",
    "        acc_map[i, j] = acc\n",
    "        std_map[i, j] = std\n",
    "        print('\\r',i, j, x[i], y[j], acc, loss,end='')\n",
    "    print()\n",
    "    X,Y = np.meshgrid(x,y)\n",
    "\n",
    "    \n",
    "    fig, axes = plt.subplots(1,2, figsize=(15,10))\n",
    "\n",
    "    cs = axes[0].contour(X,Y,loss_map, levels=np.logspace(np.log(loss_map.min()), np.log(loss_map.max()),15,base=np.e))\n",
    "    plt.clabel(cs, inline=1, fontsize=10)\n",
    "    axes[0].set_title('Loss')\n",
    "    cs = axes[1].contour(X,Y,std_map, levels=np.logspace(np.log(std_map.min()), np.log(std_map.max()),15,base=np.e))\n",
    "    plt.clabel(cs, inline=1, fontsize=10)\n",
    "    axes[1].set_title('Std')\n",
    "    fig.suptitle(title)\n",
    "\n",
    "    return loss_map, acc_map, std_map"
   ]
  },
  {
   "cell_type": "code",
   "execution_count": null,
   "metadata": {},
   "outputs": [],
   "source": [
    "net = Model(in_size=(3,32,32))\n",
    "checkpoint = torch.load('./dqn_arch/checkpoint/data_CIFAR10_optim_sgd_lr_0.01_wd_0.0005_batch-size_128_seed_2018/best.t7')\n",
    "net.load_state_dict(checkpoint['net'])    \n",
    "net.to(device)"
   ]
  },
  {
   "cell_type": "code",
   "execution_count": null,
   "metadata": {},
   "outputs": [],
   "source": [
    "zero_vector = np.zeros(net.get_weight_vector().shape)\n",
    "zero_vector.shape\n"
   ]
  },
  {
   "cell_type": "code",
   "execution_count": null,
   "metadata": {},
   "outputs": [],
   "source": [
    "print('Train loss mean: {:.6f} std: {:.6f} acc:{:.2f}'.format(*test(net, trainloader)))\n",
    "print('Fixed Train loss mean: {:.6f} std: {:.6f} acc:{:.2f}'.format(*test(net, fixed_trainloader)))\n",
    "print('Test loss mean: {:.6f} std: {:.6f} acc:{:.2f}'.format(*test(net, testloader)))"
   ]
  },
  {
   "cell_type": "code",
   "execution_count": null,
   "metadata": {},
   "outputs": [],
   "source": [
    "b1, b2 = np.random.normal(loc = zero_vector, scale=1),np.random.normal(loc = zero_vector, scale=1)\n",
    "print(b1.shape)\n",
    "b1, b2 = net.filterwisely_normalize(b1), net.filterwisely_normalize(b2)\n",
    "b1.shape"
   ]
  },
  {
   "cell_type": "code",
   "execution_count": null,
   "metadata": {},
   "outputs": [],
   "source": [
    "def plot_2d_landscape(loss_map, std_map,r=1.0, title='Title',):\n",
    "    scale = loss_map.shape[0]\n",
    "    x = np.linspace(-r, r, scale)\n",
    "    y = np.linspace(-r, r,scale)\n",
    "    X,Y = np.meshgrid(x,y)\n",
    "\n",
    "    \n",
    "    fig, axes = plt.subplots(1,2, figsize=(15,10))\n",
    "    \n",
    "\n",
    "    cs = axes[0].contour(X,Y,loss_map, levels=np.logspace(np.log(loss_map.min()), np.log(loss_map.max()),15,base=np.e))\n",
    "    plt.clabel(cs, inline=1, fontsize=10)\n",
    "    axes[0].set_title('Loss')\n",
    "    cs = axes[1].contour(X,Y,std_map, levels=np.logspace(np.log(std_map.min()), np.log(std_map.max()),15,base=np.e))\n",
    "    plt.clabel(cs, inline=1, fontsize=10)\n",
    "    axes[1].set_title('Std')\n",
    "    fig.suptitle(title)\n",
    "\n"
   ]
  },
  {
   "cell_type": "code",
   "execution_count": null,
   "metadata": {},
   "outputs": [],
   "source": [
    "cifar10_sgd_1_11 = eval_plot_2d_landscape(net, Model(in_size=(3,32,32)), fixed_trainloader, (b1,b2), r=1.0, scale=11, title='Title')"
   ]
  },
  {
   "cell_type": "code",
   "execution_count": null,
   "metadata": {},
   "outputs": [],
   "source": [
    "cifar10_sgd_1_101 = eval_plot_2d_landscape(net, Model(in_size=(3,32,32)), fixed_trainloader, (b1,b2), r=1.0, scale=51, title='Title')"
   ]
  },
  {
   "cell_type": "code",
   "execution_count": null,
   "metadata": {},
   "outputs": [],
   "source": [
    "import pickle\n",
    "pickle.dump((cifar10_sgd_1_11,cifar10_sgd_1_101),open('cifar10_11_51','wb'))"
   ]
  }
 ],
 "metadata": {
  "kernelspec": {
   "display_name": "Python 3",
   "language": "python",
   "name": "python3"
  },
  "language_info": {
   "codemirror_mode": {
    "name": "ipython",
    "version": 3
   },
   "file_extension": ".py",
   "mimetype": "text/x-python",
   "name": "python",
   "nbconvert_exporter": "python",
   "pygments_lexer": "ipython3",
   "version": "3.6.5"
  }
 },
 "nbformat": 4,
 "nbformat_minor": 2
}
